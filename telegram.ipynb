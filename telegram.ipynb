{
 "cells": [
  {
   "cell_type": "code",
   "execution_count": 2,
   "metadata": {},
   "outputs": [],
   "source": [
    "from dotenv import load_dotenv\n",
    "from agno.utils.pprint import pprint_run_response\n",
    "from typing import Iterator\n",
    "\n",
    "load_dotenv()\n",
    "\n",
    "import os\n",
    "import nest_asyncio\n",
    "from telegram import Update\n",
    "from telegram.ext import ApplicationBuilder, MessageHandler, ContextTypes, filters\n",
    "\n",
    "nest_asyncio.apply()\n",
    "\n",
    "TOKEN = os.getenv(\"TELEGRAM_TOKEN\")\n",
    "group_chat_ids = set()\n",
    "\n",
    "async def track_groups(update: Update, context: ContextTypes.DEFAULT_TYPE):\n",
    "    chat = update.effective_chat\n",
    "    print(update, 'upodate')\n",
    "    if chat.type in ['group', 'supergroup']:\n",
    "        group_chat_ids.add(chat.id)\n",
    "        print(f\"Tracked group: {chat.title} (ID: {chat.id})\")\n",
    "\n",
    "app = ApplicationBuilder().token(TOKEN).build()\n",
    "app.add_handler(MessageHandler(filters.ChatType.GROUPS, track_groups))\n",
    "\n",
    "# async def run_bot():\n",
    "#     print(\"Bot is running. Add it to groups and send a message to track group IDs.\")\n",
    "#     await app.run_polling(close_loop=False)  # <-- This is the key change!\n",
    "\n",
    "# # In a cell, run:\n",
    "# await run_bot()\n"
   ]
  },
  {
   "cell_type": "code",
   "execution_count": null,
   "metadata": {},
   "outputs": [],
   "source": [
    "chat_id=-564369288"
   ]
  },
  {
   "cell_type": "code",
   "execution_count": 5,
   "metadata": {},
   "outputs": [],
   "source": [
    "celpip_chat_id=-4891587211"
   ]
  },
  {
   "cell_type": "code",
   "execution_count": 6,
   "metadata": {},
   "outputs": [
    {
     "name": "stdout",
     "output_type": "stream",
     "text": [
      "Message sent to group ID: -4891587211\n"
     ]
    }
   ],
   "source": [
    "async def send_message_to_all_groups(message: str):\n",
    "    try:\n",
    "        await app.bot.send_message(chat_id=celpip_chat_id, text=message)\n",
    "        print(f\"Message sent to group ID: {celpip_chat_id}\")\n",
    "    except Exception as e:\n",
    "        print(f\"Failed to send message to {celpip_chat_id}: {e}\")\n",
    "\n",
    "# Run this in a Jupyter cell to send the message\n",
    "await send_message_to_all_groups(\"Hello, groups! This is a test message.\")"
   ]
  },
  {
   "cell_type": "code",
   "execution_count": 7,
   "metadata": {},
   "outputs": [
    {
     "name": "stdout",
     "output_type": "stream",
     "text": [
      "Successfully loaded 101 words\n",
      "\n",
      "Example word details:\n",
      "Word: blurry\n",
      "Ukrainian: розмитий\n",
      "Meaning: not clear or distinct; lacking sharpness or focus [1]\n",
      "Number of examples: 8\n"
     ]
    }
   ],
   "source": [
    "import json\n",
    "\n",
    "def load_celpip_data():\n",
    "    try:\n",
    "        with open('celpip.json', 'r', encoding='utf-8') as file:\n",
    "            data = json.load(file)\n",
    "            return data\n",
    "    except FileNotFoundError:\n",
    "        print(\"Error: celpip.json file not found\")\n",
    "        return None\n",
    "    except json.JSONDecodeError:\n",
    "        print(\"Error: Invalid JSON format in celpip.json\")\n",
    "        return None\n",
    "\n",
    "def main():\n",
    "    # Load the data\n",
    "    words_data = load_celpip_data()\n",
    "    \n",
    "    if words_data:\n",
    "        # Print the number of words loaded\n",
    "        print(f\"Successfully loaded {len(words_data)} words\")\n",
    "        \n",
    "        # Example: Print first word's details\n",
    "        if words_data:\n",
    "            first_word = words_data[0]\n",
    "            print(\"\\nExample word details:\")\n",
    "            print(f\"Word: {first_word['word']}\")\n",
    "            print(f\"Ukrainian: {first_word['ua']}\")\n",
    "            print(f\"Meaning: {first_word['meaning']}\")\n",
    "            print(f\"Number of examples: {len(first_word['examples'])}\")\n",
    "\n",
    "if __name__ == \"__main__\":\n",
    "    main() "
   ]
  }
 ],
 "metadata": {
  "kernelspec": {
   "display_name": "trading-llm",
   "language": "python",
   "name": "python3"
  },
  "language_info": {
   "codemirror_mode": {
    "name": "ipython",
    "version": 3
   },
   "file_extension": ".py",
   "mimetype": "text/x-python",
   "name": "python",
   "nbconvert_exporter": "python",
   "pygments_lexer": "ipython3",
   "version": "3.11.3"
  }
 },
 "nbformat": 4,
 "nbformat_minor": 2
}
