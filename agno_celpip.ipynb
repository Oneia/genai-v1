{
 "cells": [
  {
   "cell_type": "code",
   "execution_count": 1,
   "metadata": {},
   "outputs": [],
   "source": [
    "from textwrap import dedent\n",
    "\n",
    "from agno.agent import Agent\n",
    "from agno.models.google import Gemini\n",
    "from dotenv import load_dotenv\n",
    "load_dotenv()\n",
    "\n",
    "celpip_agent = Agent(\n",
    "    model=Gemini(id=\"gemini-2.5-flash-preview-05-20\"),\n",
    "    instructions=dedent(\"\"\"\\\n",
    "You are an AI assistant tasked with creating engaging and informative Telegram posts designed to help users learn new English vocabulary. I will provide you with a single JSON object containing details about an English word. Your mission is to transform this information into a concise, human-readable, and well-structured Telegram post.\n",
    "\n",
    "**Input JSON Object Structure:**\n",
    "The JSON object you receive will have the following fields:\n",
    "*   `word`: (string) The English word to be explained.\n",
    "*   `ua`: (string) The Ukrainian translation of the word.\n",
    "*   `meaning`: (string) The definition of the English word. This may sometimes include a citation marker like `[1]` at the end.\n",
    "*   `examples`: (array of strings) A list of example sentences using the word. Each example might be prefixed with something like \"Task X - Description:\".\n",
    "\n",
    "**Telegram Post Requirements:**\n",
    "\n",
    "Your generated Telegram post must adhere to the following:\n",
    "\n",
    "1.  **Content Extraction and Presentation:**\n",
    "    *   Return in english\n",
    "    *   **English Word:** Clearly display the `word`. Make it stand out, perhaps as a title or heavily emphasized.\n",
    "    *   **English transcription** Symbols for the phonemic transcription of English, use oxford dictionary. Emphasise\n",
    "    *   **Ukrainian Translation:** Include the `ua` (Ukrainian translation).\n",
    "    *   **Meaning:** Meaning should be in Ukrainian Present the `meaning` clearly. **Crucially, if the meaning string contains a citation marker at the end (e.g., `[1]`), you must remove it.**\n",
    "    *   **Examples:**\n",
    "        *   Select all examples from the `examples` list.\n",
    "        *   **Remove any prefixes** like \"Task X - Giving Advice:\" or similar from the chosen example sentences.\n",
    "        *   The target English `word` within each example sentence should be emphasized (e.g., using italics or bold).\n",
    "        *   The examples should be easy to understand and illustrate the word's usage effectively.\n",
    "\n",
    "2.  **Tone and Style:**\n",
    "    *   The post should be educational, do not add any additional information. Use only text from the input.\n",
    "    *   You can use emojis, you can use addtional words but only for seperation of sections.\n",
    "    *   In exaples mention from each speaking task the example is. Explain which task is about\n",
    "    *   The language should be clear, concise, and natural (\"human format\").\n",
    "\n",
    "3.  **Formatting for Telegram:**\n",
    "    *   Use Markdown to structure the post for optimal readability on Telegram. This includes using bold for emphasis (like the main word), italics, and bullet points for lists (like examples).\n",
    "    *   You may tastefully incorporate 1-2 relevant emojis to enhance visual appeal and engagement (e.g., a book emoji 📖 for meaning, a pen emoji 📝 for examples, a language/flag emoji 🇺🇦 for translation). Avoid overuse.\n",
    "\n",
    "    \"\"\"),\n",
    "    markdown=True,\n",
    ")"
   ]
  },
  {
   "cell_type": "code",
   "execution_count": 2,
   "metadata": {},
   "outputs": [],
   "source": [
    "from telegram_service import send_message_to_all_groups\n",
    "from celpip_reader import load_celpip_data\n",
    "import json\n",
    "from agno.utils.pprint import pprint_run_response\n"
   ]
  },
  {
   "cell_type": "code",
   "execution_count": 3,
   "metadata": {},
   "outputs": [],
   "source": [
    "data = load_celpip_data()\n"
   ]
  },
  {
   "cell_type": "code",
   "execution_count": 4,
   "metadata": {},
   "outputs": [],
   "source": [
    "response = celpip_agent.run(json.dumps(data[6]))\n"
   ]
  },
  {
   "cell_type": "code",
   "execution_count": 5,
   "metadata": {},
   "outputs": [
    {
     "data": {
      "text/html": [
       "<pre style=\"white-space:pre;overflow-x:auto;line-height:normal;font-family:Menlo,'DejaVu Sans Mono',consolas,'Courier New',monospace\"><span style=\"color: #000080; text-decoration-color: #000080\">╭─────────────────────────────────────────────────────────────────────────────────────────────────────────────────╮</span>\n",
       "<span style=\"color: #000080; text-decoration-color: #000080\">│</span> ✨ <span style=\"font-weight: bold\">Word of the Day</span> ✨                                                                                           <span style=\"color: #000080; text-decoration-color: #000080\">│</span>\n",
       "<span style=\"color: #000080; text-decoration-color: #000080\">│</span>                                                                                                                 <span style=\"color: #000080; text-decoration-color: #000080\">│</span>\n",
       "<span style=\"color: #000080; text-decoration-color: #000080\">│</span> 🇺🇸 <span style=\"font-weight: bold\">testify</span> 🗣️ /ˈtestɪfaɪ/                                                                                        <span style=\"color: #000080; text-decoration-color: #000080\">│</span>\n",
       "<span style=\"color: #000080; text-decoration-color: #000080\">│</span>                                                                                                                 <span style=\"color: #000080; text-decoration-color: #000080\">│</span>\n",
       "<span style=\"color: #000080; text-decoration-color: #000080\">│</span> 🇺🇦 <span style=\"font-weight: bold\">Українською:</span> свідчити                                                                                        <span style=\"color: #000080; text-decoration-color: #000080\">│</span>\n",
       "<span style=\"color: #000080; text-decoration-color: #000080\">│</span>                                                                                                                 <span style=\"color: #000080; text-decoration-color: #000080\">│</span>\n",
       "<span style=\"color: #000080; text-decoration-color: #000080\">│</span> 📖 <span style=\"font-weight: bold\">Значення:</span> давати свідчення як свідок у суді                                                                  <span style=\"color: #000080; text-decoration-color: #000080\">│</span>\n",
       "<span style=\"color: #000080; text-decoration-color: #000080\">│</span>                                                                                                                 <span style=\"color: #000080; text-decoration-color: #000080\">│</span>\n",
       "<span style=\"color: #000080; text-decoration-color: #000080\">│</span> 📝 <span style=\"font-weight: bold\">Приклади використання:</span>                                                                                       <span style=\"color: #000080; text-decoration-color: #000080\">│</span>\n",
       "<span style=\"color: #000080; text-decoration-color: #000080\">│</span>                                                                                                                 <span style=\"color: #000080; text-decoration-color: #000080\">│</span>\n",
       "<span style=\"color: #000080; text-decoration-color: #000080\">│</span> <span style=\"color: #808000; text-decoration-color: #808000; font-weight: bold\"> • </span><span style=\"font-weight: bold\">Task 1 - Giving Advice:</span> If you witnessed the incident, I strongly advise you to <span style=\"font-weight: bold\">testify</span> and share what you   <span style=\"color: #000080; text-decoration-color: #000080\">│</span>\n",
       "<span style=\"color: #000080; text-decoration-color: #000080\">│</span> <span style=\"color: #808000; text-decoration-color: #808000; font-weight: bold\">   </span>saw.                                                                                                         <span style=\"color: #000080; text-decoration-color: #000080\">│</span>\n",
       "<span style=\"color: #000080; text-decoration-color: #000080\">│</span> <span style=\"color: #808000; text-decoration-color: #808000; font-weight: bold\"> • </span><span style=\"font-weight: bold\">Task 2 - Personal Experience:</span> I once had to <span style=\"font-weight: bold\">testify</span> in a small claims court regarding a dispute with a       <span style=\"color: #000080; text-decoration-color: #000080\">│</span>\n",
       "<span style=\"color: #000080; text-decoration-color: #000080\">│</span> <span style=\"color: #808000; text-decoration-color: #808000; font-weight: bold\">   </span>contractor.                                                                                                  <span style=\"color: #000080; text-decoration-color: #000080\">│</span>\n",
       "<span style=\"color: #000080; text-decoration-color: #000080\">│</span> <span style=\"color: #808000; text-decoration-color: #808000; font-weight: bold\"> • </span><span style=\"font-weight: bold\">Task 3 - Describing a Scene:</span> In this courtroom sketch, a key witness is about to <span style=\"font-weight: bold\">testify</span> before the judge    <span style=\"color: #000080; text-decoration-color: #000080\">│</span>\n",
       "<span style=\"color: #000080; text-decoration-color: #000080\">│</span> <span style=\"color: #808000; text-decoration-color: #808000; font-weight: bold\">   </span>and jury.                                                                                                    <span style=\"color: #000080; text-decoration-color: #000080\">│</span>\n",
       "<span style=\"color: #000080; text-decoration-color: #000080\">│</span> <span style=\"color: #808000; text-decoration-color: #808000; font-weight: bold\"> • </span><span style=\"font-weight: bold\">Task 4 - Making Predictions:</span> Several experts will likely <span style=\"font-weight: bold\">testify</span> during the upcoming trial, offering their   <span style=\"color: #000080; text-decoration-color: #000080\">│</span>\n",
       "<span style=\"color: #000080; text-decoration-color: #000080\">│</span> <span style=\"color: #808000; text-decoration-color: #808000; font-weight: bold\">   </span>professional opinions.                                                                                       <span style=\"color: #000080; text-decoration-color: #000080\">│</span>\n",
       "<span style=\"color: #000080; text-decoration-color: #000080\">│</span> <span style=\"color: #808000; text-decoration-color: #808000; font-weight: bold\"> • </span><span style=\"font-weight: bold\">Task 5 - Comparing and Persuading:</span> Having an eyewitness <span style=\"font-weight: bold\">testify</span> is often more impactful than relying solely  <span style=\"color: #000080; text-decoration-color: #000080\">│</span>\n",
       "<span style=\"color: #000080; text-decoration-color: #000080\">│</span> <span style=\"color: #808000; text-decoration-color: #808000; font-weight: bold\">   </span>on circumstantial evidence.                                                                                  <span style=\"color: #000080; text-decoration-color: #000080\">│</span>\n",
       "<span style=\"color: #000080; text-decoration-color: #000080\">│</span> <span style=\"color: #808000; text-decoration-color: #808000; font-weight: bold\"> • </span><span style=\"font-weight: bold\">Task 6 - Dealing with a Difficult Situation:</span> Your employee is hesitant to <span style=\"font-weight: bold\">testify</span> about workplace            <span style=\"color: #000080; text-decoration-color: #000080\">│</span>\n",
       "<span style=\"color: #000080; text-decoration-color: #000080\">│</span> <span style=\"color: #808000; text-decoration-color: #808000; font-weight: bold\">   </span>harassment; you need to assure them of support.                                                              <span style=\"color: #000080; text-decoration-color: #000080\">│</span>\n",
       "<span style=\"color: #000080; text-decoration-color: #000080\">│</span> <span style=\"color: #808000; text-decoration-color: #808000; font-weight: bold\"> • </span><span style=\"font-weight: bold\">Task 7 - Expressing Opinion:</span> I believe it's a civic duty to <span style=\"font-weight: bold\">testify</span> truthfully if you have information       <span style=\"color: #000080; text-decoration-color: #000080\">│</span>\n",
       "<span style=\"color: #000080; text-decoration-color: #000080\">│</span> <span style=\"color: #808000; text-decoration-color: #808000; font-weight: bold\">   </span>relevant to a case.                                                                                          <span style=\"color: #000080; text-decoration-color: #000080\">│</span>\n",
       "<span style=\"color: #000080; text-decoration-color: #000080\">│</span> <span style=\"color: #808000; text-decoration-color: #808000; font-weight: bold\"> • </span><span style=\"font-weight: bold\">Task 8 - Describing an Unusual Situation:</span> It would be truly unusual if an animal could somehow learn to      <span style=\"color: #000080; text-decoration-color: #000080\">│</span>\n",
       "<span style=\"color: #000080; text-decoration-color: #000080\">│</span> <span style=\"color: #808000; text-decoration-color: #808000; font-weight: bold\">   </span><span style=\"font-weight: bold\">testify</span> in a human court of law.                                                                             <span style=\"color: #000080; text-decoration-color: #000080\">│</span>\n",
       "<span style=\"color: #000080; text-decoration-color: #000080\">╰─────────────────────────────────────────────────────────────────────────────────────────────────────────────────╯</span>\n",
       "</pre>\n"
      ],
      "text/plain": [
       "\u001b[34m╭─────────────────────────────────────────────────────────────────────────────────────────────────────────────────╮\u001b[0m\n",
       "\u001b[34m│\u001b[0m ✨ \u001b[1mWord of the Day\u001b[0m ✨                                                                                           \u001b[34m│\u001b[0m\n",
       "\u001b[34m│\u001b[0m                                                                                                                 \u001b[34m│\u001b[0m\n",
       "\u001b[34m│\u001b[0m 🇺🇸 \u001b[1mtestify\u001b[0m 🗣️ /ˈtestɪfaɪ/                                                                                        \u001b[34m│\u001b[0m\n",
       "\u001b[34m│\u001b[0m                                                                                                                 \u001b[34m│\u001b[0m\n",
       "\u001b[34m│\u001b[0m 🇺🇦 \u001b[1mУкраїнською:\u001b[0m свідчити                                                                                        \u001b[34m│\u001b[0m\n",
       "\u001b[34m│\u001b[0m                                                                                                                 \u001b[34m│\u001b[0m\n",
       "\u001b[34m│\u001b[0m 📖 \u001b[1mЗначення:\u001b[0m давати свідчення як свідок у суді                                                                  \u001b[34m│\u001b[0m\n",
       "\u001b[34m│\u001b[0m                                                                                                                 \u001b[34m│\u001b[0m\n",
       "\u001b[34m│\u001b[0m 📝 \u001b[1mПриклади використання:\u001b[0m                                                                                       \u001b[34m│\u001b[0m\n",
       "\u001b[34m│\u001b[0m                                                                                                                 \u001b[34m│\u001b[0m\n",
       "\u001b[34m│\u001b[0m \u001b[1;33m • \u001b[0m\u001b[1mTask 1 - Giving Advice:\u001b[0m If you witnessed the incident, I strongly advise you to \u001b[1mtestify\u001b[0m and share what you   \u001b[34m│\u001b[0m\n",
       "\u001b[34m│\u001b[0m \u001b[1;33m   \u001b[0msaw.                                                                                                         \u001b[34m│\u001b[0m\n",
       "\u001b[34m│\u001b[0m \u001b[1;33m • \u001b[0m\u001b[1mTask 2 - Personal Experience:\u001b[0m I once had to \u001b[1mtestify\u001b[0m in a small claims court regarding a dispute with a       \u001b[34m│\u001b[0m\n",
       "\u001b[34m│\u001b[0m \u001b[1;33m   \u001b[0mcontractor.                                                                                                  \u001b[34m│\u001b[0m\n",
       "\u001b[34m│\u001b[0m \u001b[1;33m • \u001b[0m\u001b[1mTask 3 - Describing a Scene:\u001b[0m In this courtroom sketch, a key witness is about to \u001b[1mtestify\u001b[0m before the judge    \u001b[34m│\u001b[0m\n",
       "\u001b[34m│\u001b[0m \u001b[1;33m   \u001b[0mand jury.                                                                                                    \u001b[34m│\u001b[0m\n",
       "\u001b[34m│\u001b[0m \u001b[1;33m • \u001b[0m\u001b[1mTask 4 - Making Predictions:\u001b[0m Several experts will likely \u001b[1mtestify\u001b[0m during the upcoming trial, offering their   \u001b[34m│\u001b[0m\n",
       "\u001b[34m│\u001b[0m \u001b[1;33m   \u001b[0mprofessional opinions.                                                                                       \u001b[34m│\u001b[0m\n",
       "\u001b[34m│\u001b[0m \u001b[1;33m • \u001b[0m\u001b[1mTask 5 - Comparing and Persuading:\u001b[0m Having an eyewitness \u001b[1mtestify\u001b[0m is often more impactful than relying solely  \u001b[34m│\u001b[0m\n",
       "\u001b[34m│\u001b[0m \u001b[1;33m   \u001b[0mon circumstantial evidence.                                                                                  \u001b[34m│\u001b[0m\n",
       "\u001b[34m│\u001b[0m \u001b[1;33m • \u001b[0m\u001b[1mTask 6 - Dealing with a Difficult Situation:\u001b[0m Your employee is hesitant to \u001b[1mtestify\u001b[0m about workplace            \u001b[34m│\u001b[0m\n",
       "\u001b[34m│\u001b[0m \u001b[1;33m   \u001b[0mharassment; you need to assure them of support.                                                              \u001b[34m│\u001b[0m\n",
       "\u001b[34m│\u001b[0m \u001b[1;33m • \u001b[0m\u001b[1mTask 7 - Expressing Opinion:\u001b[0m I believe it's a civic duty to \u001b[1mtestify\u001b[0m truthfully if you have information       \u001b[34m│\u001b[0m\n",
       "\u001b[34m│\u001b[0m \u001b[1;33m   \u001b[0mrelevant to a case.                                                                                          \u001b[34m│\u001b[0m\n",
       "\u001b[34m│\u001b[0m \u001b[1;33m • \u001b[0m\u001b[1mTask 8 - Describing an Unusual Situation:\u001b[0m It would be truly unusual if an animal could somehow learn to      \u001b[34m│\u001b[0m\n",
       "\u001b[34m│\u001b[0m \u001b[1;33m   \u001b[0m\u001b[1mtestify\u001b[0m in a human court of law.                                                                             \u001b[34m│\u001b[0m\n",
       "\u001b[34m╰─────────────────────────────────────────────────────────────────────────────────────────────────────────────────╯\u001b[0m\n"
      ]
     },
     "metadata": {},
     "output_type": "display_data"
    }
   ],
   "source": [
    "pprint_run_response(response, markdown=True)"
   ]
  },
  {
   "cell_type": "code",
   "execution_count": 6,
   "metadata": {},
   "outputs": [
    {
     "data": {
      "text/plain": [
       "'{\\n  \"content\": \"\\\\u2728 **Word of the Day** \\\\u2728\\\\n\\\\n\\\\ud83c\\\\uddfa\\\\ud83c\\\\uddf8 **testify**\\\\n\\\\ud83d\\\\udde3\\\\ufe0f /\\\\u02c8test\\\\u026afa\\\\u026a/\\\\n\\\\n\\\\ud83c\\\\uddfa\\\\ud83c\\\\udde6 **\\\\u0423\\\\u043a\\\\u0440\\\\u0430\\\\u0457\\\\u043d\\\\u0441\\\\u044c\\\\u043a\\\\u043e\\\\u044e:** \\\\u0441\\\\u0432\\\\u0456\\\\u0434\\\\u0447\\\\u0438\\\\u0442\\\\u0438\\\\n\\\\n\\\\ud83d\\\\udcd6 **\\\\u0417\\\\u043d\\\\u0430\\\\u0447\\\\u0435\\\\u043d\\\\u043d\\\\u044f:** \\\\u0434\\\\u0430\\\\u0432\\\\u0430\\\\u0442\\\\u0438 \\\\u0441\\\\u0432\\\\u0456\\\\u0434\\\\u0447\\\\u0435\\\\u043d\\\\u043d\\\\u044f \\\\u044f\\\\u043a \\\\u0441\\\\u0432\\\\u0456\\\\u0434\\\\u043e\\\\u043a \\\\u0443 \\\\u0441\\\\u0443\\\\u0434\\\\u0456\\\\n\\\\n\\\\ud83d\\\\udcdd **\\\\u041f\\\\u0440\\\\u0438\\\\u043a\\\\u043b\\\\u0430\\\\u0434\\\\u0438 \\\\u0432\\\\u0438\\\\u043a\\\\u043e\\\\u0440\\\\u0438\\\\u0441\\\\u0442\\\\u0430\\\\u043d\\\\u043d\\\\u044f:**\\\\n\\\\n*   **Task 1 - Giving Advice:** If you witnessed the incident, I strongly advise you to **testify** and share what you saw.\\\\n*   **Task 2 - Personal Experience:** I once had to **testify** in a small claims court regarding a dispute with a contractor.\\\\n*   **Task 3 - Describing a Scene:** In this courtroom sketch, a key witness is about to **testify** before the judge and jury.\\\\n*   **Task 4 - Making Predictions:** Several experts will likely **testify** during the upcoming trial, offering their professional opinions.\\\\n*   **Task 5 - Comparing and Persuading:** Having an eyewitness **testify** is often more impactful than relying solely on circumstantial evidence.\\\\n*   **Task 6 - Dealing with a Difficult Situation:** Your employee is hesitant to **testify** about workplace harassment; you need to assure them of support.\\\\n*   **Task 7 - Expressing Opinion:** I believe it\\'s a civic duty to **testify** truthfully if you have information relevant to a case.\\\\n*   **Task 8 - Describing an Unusual Situation:** It would be truly unusual if an animal could somehow learn to **testify** in a human court of law.\",\\n  \"content_type\": \"str\",\\n  \"event\": \"RunResponse\",\\n  \"metrics\": {\\n    \"input_tokens\": [\\n      949\\n    ],\\n    \"output_tokens\": [\\n      325\\n    ],\\n    \"total_tokens\": [\\n      1739\\n    ],\\n    \"audio_tokens\": [\\n      0\\n    ],\\n    \"input_audio_tokens\": [\\n      0\\n    ],\\n    \"output_audio_tokens\": [\\n      0\\n    ],\\n    \"cached_tokens\": [\\n      0\\n    ],\\n    \"reasoning_tokens\": [\\n      0\\n    ],\\n    \"prompt_tokens\": [\\n      0\\n    ],\\n    \"completion_tokens\": [\\n      0\\n    ],\\n    \"time\": [\\n      4.122461999999359\\n    ]\\n  },\\n  \"model\": \"gemini-2.5-flash-preview-05-20\",\\n  \"model_provider\": \"Google\",\\n  \"run_id\": \"4ff47764-5abc-4788-bd47-cc407876e4cd\",\\n  \"agent_id\": \"e441bfb2-d532-4ff4-8fe2-1f1ed5ecbb91\",\\n  \"session_id\": \"5f03868c-c254-4293-8fd7-26c0301a03b7\",\\n  \"created_at\": 1749034691,\\n  \"messages\": [\\n    {\\n      \"content\": \"<instructions>\\\\nYou are an AI assistant tasked with creating engaging and informative Telegram posts designed to help users learn new English vocabulary. I will provide you with a single JSON object containing details about an English word. Your mission is to transform this information into a concise, human-readable, and well-structured Telegram post.\\\\n\\\\n**Input JSON Object Structure:**\\\\nThe JSON object you receive will have the following fields:\\\\n*   `word`: (string) The English word to be explained.\\\\n*   `ua`: (string) The Ukrainian translation of the word.\\\\n*   `meaning`: (string) The definition of the English word. This may sometimes include a citation marker like `[1]` at the end.\\\\n*   `examples`: (array of strings) A list of example sentences using the word. Each example might be prefixed with something like \\\\\"Task X - Description:\\\\\".\\\\n\\\\n**Telegram Post Requirements:**\\\\n\\\\nYour generated Telegram post must adhere to the following:\\\\n\\\\n1.  **Content Extraction and Presentation:**\\\\n    *   Return in english\\\\n    *   **English Word:** Clearly display the `word`. Make it stand out, perhaps as a title or heavily emphasized.\\\\n    *   **English transcription** Symbols for the phonemic transcription of English, use oxford dictionary. Emphasise\\\\n    *   **Ukrainian Translation:** Include the `ua` (Ukrainian translation).\\\\n    *   **Meaning:** Meaning should be in Ukrainian Present the `meaning` clearly. **Crucially, if the meaning string contains a citation marker at the end (e.g., `[1]`), you must remove it.**\\\\n    *   **Examples:**\\\\n        *   Select all examples from the `examples` list.\\\\n        *   **Remove any prefixes** like \\\\\"Task X - Giving Advice:\\\\\" or similar from the chosen example sentences.\\\\n        *   The target English `word` within each example sentence should be emphasized (e.g., using italics or bold).\\\\n        *   The examples should be easy to understand and illustrate the word\\'s usage effectively.\\\\n\\\\n2.  **Tone and Style:**\\\\n    *   The post should be educational, do not add any additional information. Use only text from the input.\\\\n    *   You can use emojis, you can use addtional words but only for seperation of sections.\\\\n    *   In exaples mention from each speaking task the example is. Explain which task is about\\\\n    *   The language should be clear, concise, and natural (\\\\\"human format\\\\\").\\\\n\\\\n3.  **Formatting for Telegram:**\\\\n    *   Use Markdown to structure the post for optimal readability on Telegram. This includes using bold for emphasis (like the main word), italics, and bullet points for lists (like examples).\\\\n    *   You may tastefully incorporate 1-2 relevant emojis to enhance visual appeal and engagement (e.g., a book emoji \\\\ud83d\\\\udcd6 for meaning, a pen emoji \\\\ud83d\\\\udcdd for examples, a language/flag emoji \\\\ud83c\\\\uddfa\\\\ud83c\\\\udde6 for translation). Avoid overuse.\\\\n\\\\n\\\\n</instructions>\\\\n\\\\n<additional_information>\\\\n- Use markdown to format your answers.\\\\n</additional_information>\",\\n      \"from_history\": false,\\n      \"stop_after_tool_call\": false,\\n      \"role\": \"system\",\\n      \"created_at\": 1749034693\\n    },\\n    {\\n      \"content\": \"{\\\\\"word\\\\\": \\\\\"testify\\\\\", \\\\\"ua\\\\\": \\\\\"\\\\\\\\u0441\\\\\\\\u0432\\\\\\\\u0456\\\\\\\\u0434\\\\\\\\u0447\\\\\\\\u0438\\\\\\\\u0442\\\\\\\\u0438\\\\\", \\\\\"meaning\\\\\": \\\\\"to give evidence as a witness in a law court [1]\\\\\", \\\\\"examples\\\\\": [\\\\\"Task 1 - Giving Advice: If you witnessed the incident, I strongly advise you to testify and share what you saw.\\\\\", \\\\\"Task 2 - Personal Experience: I once had to testify in a small claims court regarding a dispute with a contractor.\\\\\", \\\\\"Task 3 - Describing a Scene: In this courtroom sketch, a key witness is about to testify before the judge and jury.\\\\\", \\\\\"Task 4 - Making Predictions: Several experts will likely testify during the upcoming trial, offering their professional opinions.\\\\\", \\\\\"Task 5 - Comparing and Persuading: Having an eyewitness testify is often more impactful than relying solely on circumstantial evidence.\\\\\", \\\\\"Task 6 - Dealing with a Difficult Situation: Your employee is hesitant to testify about workplace harassment; you need to assure them of support.\\\\\", \\\\\"Task 7 - Expressing Opinion: I believe it\\'s a civic duty to testify truthfully if you have information relevant to a case.\\\\\", \\\\\"Task 8 - Describing an Unusual Situation: It would be truly unusual if an animal could somehow learn to testify in a human court of law.\\\\\"]}\",\\n      \"from_history\": false,\\n      \"stop_after_tool_call\": false,\\n      \"role\": \"user\",\\n      \"created_at\": 1749034693\\n    },\\n    {\\n      \"content\": \"\\\\u2728 **Word of the Day** \\\\u2728\\\\n\\\\n\\\\ud83c\\\\uddfa\\\\ud83c\\\\uddf8 **testify**\\\\n\\\\ud83d\\\\udde3\\\\ufe0f /\\\\u02c8test\\\\u026afa\\\\u026a/\\\\n\\\\n\\\\ud83c\\\\uddfa\\\\ud83c\\\\udde6 **\\\\u0423\\\\u043a\\\\u0440\\\\u0430\\\\u0457\\\\u043d\\\\u0441\\\\u044c\\\\u043a\\\\u043e\\\\u044e:** \\\\u0441\\\\u0432\\\\u0456\\\\u0434\\\\u0447\\\\u0438\\\\u0442\\\\u0438\\\\n\\\\n\\\\ud83d\\\\udcd6 **\\\\u0417\\\\u043d\\\\u0430\\\\u0447\\\\u0435\\\\u043d\\\\u043d\\\\u044f:** \\\\u0434\\\\u0430\\\\u0432\\\\u0430\\\\u0442\\\\u0438 \\\\u0441\\\\u0432\\\\u0456\\\\u0434\\\\u0447\\\\u0435\\\\u043d\\\\u043d\\\\u044f \\\\u044f\\\\u043a \\\\u0441\\\\u0432\\\\u0456\\\\u0434\\\\u043e\\\\u043a \\\\u0443 \\\\u0441\\\\u0443\\\\u0434\\\\u0456\\\\n\\\\n\\\\ud83d\\\\udcdd **\\\\u041f\\\\u0440\\\\u0438\\\\u043a\\\\u043b\\\\u0430\\\\u0434\\\\u0438 \\\\u0432\\\\u0438\\\\u043a\\\\u043e\\\\u0440\\\\u0438\\\\u0441\\\\u0442\\\\u0430\\\\u043d\\\\u043d\\\\u044f:**\\\\n\\\\n*   **Task 1 - Giving Advice:** If you witnessed the incident, I strongly advise you to **testify** and share what you saw.\\\\n*   **Task 2 - Personal Experience:** I once had to **testify** in a small claims court regarding a dispute with a contractor.\\\\n*   **Task 3 - Describing a Scene:** In this courtroom sketch, a key witness is about to **testify** before the judge and jury.\\\\n*   **Task 4 - Making Predictions:** Several experts will likely **testify** during the upcoming trial, offering their professional opinions.\\\\n*   **Task 5 - Comparing and Persuading:** Having an eyewitness **testify** is often more impactful than relying solely on circumstantial evidence.\\\\n*   **Task 6 - Dealing with a Difficult Situation:** Your employee is hesitant to **testify** about workplace harassment; you need to assure them of support.\\\\n*   **Task 7 - Expressing Opinion:** I believe it\\'s a civic duty to **testify** truthfully if you have information relevant to a case.\\\\n*   **Task 8 - Describing an Unusual Situation:** It would be truly unusual if an animal could somehow learn to **testify** in a human court of law.\",\\n      \"from_history\": false,\\n      \"stop_after_tool_call\": false,\\n      \"role\": \"assistant\",\\n      \"metrics\": {\\n        \"input_tokens\": 949,\\n        \"output_tokens\": 325,\\n        \"total_tokens\": 1739,\\n        \"time\": 4.122461999999359\\n      },\\n      \"created_at\": 1749034693\\n    }\\n  ],\\n  \"tools\": []\\n}'"
      ]
     },
     "execution_count": 6,
     "metadata": {},
     "output_type": "execute_result"
    }
   ],
   "source": [
    "response.to_json()"
   ]
  },
  {
   "cell_type": "code",
   "execution_count": 7,
   "metadata": {},
   "outputs": [
    {
     "name": "stdout",
     "output_type": "stream",
     "text": [
      "Message sent to group ID: -4891587211\n"
     ]
    }
   ],
   "source": [
    "await send_message_to_all_groups(response.content)"
   ]
  }
 ],
 "metadata": {
  "kernelspec": {
   "display_name": "trading-llm",
   "language": "python",
   "name": "python3"
  },
  "language_info": {
   "codemirror_mode": {
    "name": "ipython",
    "version": 3
   },
   "file_extension": ".py",
   "mimetype": "text/x-python",
   "name": "python",
   "nbconvert_exporter": "python",
   "pygments_lexer": "ipython3",
   "version": "3.11.3"
  }
 },
 "nbformat": 4,
 "nbformat_minor": 2
}
